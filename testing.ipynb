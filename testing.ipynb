{
 "cells": [
  {
   "cell_type": "markdown",
   "metadata": {
    "collapsed": true,
    "pycharm": {
     "name": "#%% md\n"
    }
   },
   "source": [
    "<h1>Functional programming"
   ]
  },
  {
   "cell_type": "markdown",
   "source": [
    "<h2>\n",
    "Imperative programming\n",
    "<h3>Functions"
   ],
   "metadata": {
    "collapsed": false,
    "pycharm": {
     "name": "#%% md\n"
    }
   }
  },
  {
   "cell_type": "code",
   "execution_count": 11,
   "outputs": [],
   "source": [
    "def get_names(peoples_list):\n",
    "    for people in peoples_list:\n",
    "        names_list.append(people['name'])\n",
    "    return names_list\n",
    "\n",
    "def search_obeses_imperative(peoples_list):\n",
    "    for people in peoples_list:\n",
    "        if people['imc'] >= 30:\n",
    "            obeses_list.append(people)\n",
    "    return obeses_list"
   ],
   "metadata": {
    "collapsed": false,
    "pycharm": {
     "name": "#%%\n"
    }
   }
  },
  {
   "cell_type": "markdown",
   "source": [
    "<h3> Code"
   ],
   "metadata": {
    "collapsed": false,
    "pycharm": {
     "name": "#%% md\n"
    }
   }
  },
  {
   "cell_type": "code",
   "execution_count": 12,
   "outputs": [
    {
     "name": "stdout",
     "output_type": "stream",
     "text": [
      "Names: ['Joao', 'Cleiton', 'Julia', 'Carlos', 'Daniela', 'Joao', 'Cleiton', 'Julia', 'Carlos', 'Daniela']\n",
      "Other names: ['Joao', 'Cleiton', 'Julia', 'Carlos', 'Daniela', 'Joao', 'Cleiton', 'Julia', 'Carlos', 'Daniela']\n",
      "Obeses: [{'name': 'Carlos', 'imc': 43}, {'name': 'Daniela', 'imc': 31}]\n"
     ]
    }
   ],
   "source": [
    "peoples = [{'name': 'Joao', 'imc': 27},\n",
    "         {'name': 'Cleiton', 'imc': 21},\n",
    "         {'name': 'Julia', 'imc': 16},\n",
    "         {'name': 'Carlos', 'imc': 43},\n",
    "         {'name': 'Daniela', 'imc': 31}\n",
    "]\n",
    "\n",
    "names_list = []\n",
    "names_list = get_names(peoples_list=peoples)\n",
    "other_names_list = get_names(peoples_list=peoples)\n",
    "\n",
    "print(f'Names: {names_list}')\n",
    "print(f'Other names: {other_names_list}')\n",
    "\n",
    "obeses_list = []\n",
    "obeses_list = search_obeses_imperative(peoples_list=peoples)\n",
    "print(f'Obeses: {obeses_list}')"
   ],
   "metadata": {
    "collapsed": false,
    "pycharm": {
     "name": "#%%\n"
    }
   }
  },
  {
   "cell_type": "markdown",
   "source": [
    "<h2>Functional programming\n",
    "<h3>Functions"
   ],
   "metadata": {
    "collapsed": false,
    "pycharm": {
     "name": "#%% md\n"
    }
   }
  },
  {
   "cell_type": "code",
   "execution_count": 3,
   "outputs": [],
   "source": [
    "def search_obese(peoples_list=list()):\n",
    "    obese = []\n",
    "    if peoples_list['imc'] >= 30:\n",
    "        obese.append(peoples_list)\n",
    "    return obese\n",
    "\n",
    "def get_all_imc(peoples_list=list()):\n",
    "    new_imc_list = []\n",
    "    for people in peoples_list:\n",
    "        if people['imc'] >= 30:\n",
    "            new_imc_list.append(int(people['imc']))\n",
    "    return new_imc_list"
   ],
   "metadata": {
    "collapsed": false,
    "pycharm": {
     "name": "#%%\n"
    }
   }
  },
  {
   "cell_type": "code",
   "execution_count": 9,
   "outputs": [
    {
     "name": "stdout",
     "output_type": "stream",
     "text": [
      "names_list: ['Joao', 'Cleiton', 'Julia', 'Carlos', 'Daniela']\n",
      "other_names_list: ['Joao', 'Cleiton', 'Julia', 'Carlos', 'Daniela']\n",
      "Peoples with obesity: [{'name': 'Carlos', 'imc': 43}, {'name': 'Daniela', 'imc': 31}]\n",
      "43\n"
     ]
    }
   ],
   "source": [
    "peoples = [{'name': 'Joao', 'imc': 27},\n",
    "         {'name': 'Cleiton', 'imc': 21},\n",
    "         {'name': 'Julia', 'imc': 16},\n",
    "         {'name': 'Carlos', 'imc': 43},\n",
    "         {'name': 'Daniela', 'imc': 31}\n",
    "]\n",
    "\n",
    "#Using map()\n",
    "names_list = list(map(lambda p: p['name'], peoples))\n",
    "other_names_list = list(map(lambda p: p['name'], peoples))\n",
    "\n",
    "print(f'names_list: {names_list}')\n",
    "print(f'other_names_list: {other_names_list}')\n",
    "\n",
    "\n",
    "#Using list()\n",
    "people_with_obesity = list(filter(search_obese, peoples))\n",
    "print(f'Peoples with obesity: {people_with_obesity}')\n",
    "\n",
    "#Using reduce()\n",
    "from functools import reduce\n",
    "bmi_list = get_all_imc(peoples_list=peoples)\n",
    "higher_bmi = reduce(lambda a,b : a if a > b else b,bmi_list)\n",
    "print(f'Higher BMI: {higher_bmi}')"
   ],
   "metadata": {
    "collapsed": false,
    "pycharm": {
     "name": "#%%\n"
    }
   }
  }
 ],
 "metadata": {
  "kernelspec": {
   "name": "pycharm-8eeb72f7",
   "language": "python",
   "display_name": "PyCharm (functional-programming)"
  },
  "language_info": {
   "codemirror_mode": {
    "name": "ipython",
    "version": 2
   },
   "file_extension": ".py",
   "mimetype": "text/x-python",
   "name": "python",
   "nbconvert_exporter": "python",
   "pygments_lexer": "ipython2",
   "version": "2.7.6"
  }
 },
 "nbformat": 4,
 "nbformat_minor": 0
}