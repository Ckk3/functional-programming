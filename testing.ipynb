{
 "cells": [
  {
   "cell_type": "markdown",
   "metadata": {
    "collapsed": true,
    "pycharm": {
     "name": "#%% md\n"
    }
   },
   "source": [
    "<h1>Functional programming"
   ]
  },
  {
   "cell_type": "markdown",
   "source": [
    "<h2>\n",
    "Imperative programming\n",
    "<h3>Functions"
   ],
   "metadata": {
    "collapsed": false,
    "pycharm": {
     "name": "#%% md\n"
    }
   }
  },
  {
   "cell_type": "code",
   "execution_count": 24,
   "outputs": [],
   "source": [
    "def get_names(peoples_list):\n",
    "    for people in peoples_list:\n",
    "        names_list.append(people['name'])\n",
    "    return names_list"
   ],
   "metadata": {
    "collapsed": false,
    "pycharm": {
     "name": "#%%\n"
    }
   }
  },
  {
   "cell_type": "markdown",
   "source": [
    "<h3> Code"
   ],
   "metadata": {
    "collapsed": false,
    "pycharm": {
     "name": "#%% md\n"
    }
   }
  },
  {
   "cell_type": "code",
   "execution_count": 25,
   "outputs": [
    {
     "name": "stdout",
     "output_type": "stream",
     "text": [
      "names_list: ['Joao', 'Cleiton', 'Julia', 'Carlos', 'Daniela', 'Joao', 'Cleiton', 'Julia', 'Carlos', 'Daniela', 'Joao', 'Cleiton', 'Julia', 'Carlos', 'Daniela', 'Joao', 'Cleiton', 'Julia', 'Carlos', 'Daniela', 'Joao', 'Cleiton', 'Julia', 'Carlos', 'Daniela']\n",
      "other_names_list: ['Joao', 'Cleiton', 'Julia', 'Carlos', 'Daniela', 'Joao', 'Cleiton', 'Julia', 'Carlos', 'Daniela', 'Joao', 'Cleiton', 'Julia', 'Carlos', 'Daniela', 'Joao', 'Cleiton', 'Julia', 'Carlos', 'Daniela', 'Joao', 'Cleiton', 'Julia', 'Carlos', 'Daniela']\n"
     ]
    }
   ],
   "source": [
    "peoples = [{'name': 'Joao', 'imc': 27},\n",
    "         {'name': 'Cleiton', 'imc': 21},\n",
    "         {'name': 'Julia', 'imc': 16},\n",
    "         {'name': 'Carlos', 'imc': 43},\n",
    "         {'name': 'Daniela', 'imc': 31}\n",
    "]\n",
    "\n",
    "names_list = get_names(peoples_list=peoples)\n",
    "other_names_list = get_names(peoples_list=peoples)\n",
    "\n",
    "print(f'names_list: {names_list}')\n",
    "print(f'other_names_list: {other_names_list}')"
   ],
   "metadata": {
    "collapsed": false,
    "pycharm": {
     "name": "#%%\n"
    }
   }
  },
  {
   "cell_type": "markdown",
   "source": [
    "<h2>Functional programming\n",
    "<h3>Functions"
   ],
   "metadata": {
    "collapsed": false,
    "pycharm": {
     "name": "#%% md\n"
    }
   }
  },
  {
   "cell_type": "code",
   "execution_count": 41,
   "outputs": [],
   "source": [
    "def search_obese(peoples_list=list()):\n",
    "    obese = []\n",
    "    if peoples_list['imc'] >= 30:\n",
    "        obese.append(peoples_list)\n",
    "    return obese"
   ],
   "metadata": {
    "collapsed": false,
    "pycharm": {
     "name": "#%%\n"
    }
   }
  },
  {
   "cell_type": "code",
   "execution_count": 42,
   "outputs": [
    {
     "name": "stdout",
     "output_type": "stream",
     "text": [
      "names_list: ['Joao', 'Cleiton', 'Julia', 'Carlos', 'Daniela']\n",
      "other_names_list: ['Joao', 'Cleiton', 'Julia', 'Carlos', 'Daniela']\n",
      "[{'name': 'Carlos', 'imc': 43}, {'name': 'Daniela', 'imc': 31}]\n"
     ]
    }
   ],
   "source": [
    "peoples = [{'name': 'Joao', 'imc': 27},\n",
    "         {'name': 'Cleiton', 'imc': 21},\n",
    "         {'name': 'Julia', 'imc': 16},\n",
    "         {'name': 'Carlos', 'imc': 43},\n",
    "         {'name': 'Daniela', 'imc': 31}\n",
    "]\n",
    "\n",
    "names_list = list(map(lambda p: p['name'], peoples))\n",
    "other_names_list = list(map(lambda p: p['name'], peoples))\n",
    "\n",
    "print(f'names_list: {names_list}')\n",
    "print(f'other_names_list: {other_names_list}')\n",
    "\n",
    "\n",
    "\n",
    "people_with_obesity = list(filter(search_obese, peoples))\n",
    "print(people_with_obesity)\n",
    "\n",
    "#imc_list = list(map(lambda p: p['imc']>30, peoples))\n",
    "#print(imc_list)\n",
    "#from statistics import mean\n",
    "#print(mean(imc_list))\n"
   ],
   "metadata": {
    "collapsed": false,
    "pycharm": {
     "name": "#%%\n"
    }
   }
  }
 ],
 "metadata": {
  "kernelspec": {
   "display_name": "Python 3",
   "language": "python",
   "name": "python3"
  },
  "language_info": {
   "codemirror_mode": {
    "name": "ipython",
    "version": 2
   },
   "file_extension": ".py",
   "mimetype": "text/x-python",
   "name": "python",
   "nbconvert_exporter": "python",
   "pygments_lexer": "ipython2",
   "version": "2.7.6"
  }
 },
 "nbformat": 4,
 "nbformat_minor": 0
}