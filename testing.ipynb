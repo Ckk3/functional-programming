{
 "cells": [
  {
   "cell_type": "markdown",
   "metadata": {
    "collapsed": true,
    "pycharm": {
     "name": "#%% md\n"
    }
   },
   "source": [
    "<h1>Functional programming"
   ]
  },
  {
   "cell_type": "markdown",
   "source": [
    "<h2>\n",
    "Imperative programming\n",
    "<h3>Functions"
   ],
   "metadata": {
    "collapsed": false,
    "pycharm": {
     "name": "#%% md\n"
    }
   }
  },
  {
   "cell_type": "code",
   "execution_count": 1,
   "outputs": [],
   "source": [
    "def get_names(peoples_list):\n",
    "    for people in peoples_list:\n",
    "        names_list.append(people['name'])\n",
    "    return names_list\n",
    "\n",
    "def search_obeses_imperative(peoples_list):\n",
    "    for people in peoples_list:\n",
    "        if people['imc'] >= 30:\n",
    "            obeses_list.append(people)\n",
    "    return obeses_list"
   ],
   "metadata": {
    "collapsed": false,
    "pycharm": {
     "name": "#%%\n"
    }
   }
  },
  {
   "cell_type": "markdown",
   "source": [
    "<h3> Code"
   ],
   "metadata": {
    "collapsed": false,
    "pycharm": {
     "name": "#%% md\n"
    }
   }
  },
  {
   "cell_type": "code",
   "execution_count": 4,
   "outputs": [
    {
     "name": "stdout",
     "output_type": "stream",
     "text": [
      "names_list: ['Joao', 'Cleiton', 'Julia', 'Carlos', 'Daniela', 'Joao', 'Cleiton', 'Julia', 'Carlos', 'Daniela']\n",
      "other_names_list: ['Joao', 'Cleiton', 'Julia', 'Carlos', 'Daniela', 'Joao', 'Cleiton', 'Julia', 'Carlos', 'Daniela']\n",
      "[{'name': 'Carlos', 'imc': 43}, {'name': 'Daniela', 'imc': 31}]\n",
      "[{'name': 'Carlos', 'imc': 43}, {'name': 'Daniela', 'imc': 31}, {'name': 'Carlos', 'imc': 43}, {'name': 'Daniela', 'imc': 31}]\n"
     ]
    }
   ],
   "source": [
    "peoples = [{'name': 'Joao', 'imc': 27},\n",
    "         {'name': 'Cleiton', 'imc': 21},\n",
    "         {'name': 'Julia', 'imc': 16},\n",
    "         {'name': 'Carlos', 'imc': 43},\n",
    "         {'name': 'Daniela', 'imc': 31}\n",
    "]\n",
    "\n",
    "names_list = []\n",
    "names_list = get_names(peoples_list=peoples)\n",
    "other_names_list = get_names(peoples_list=peoples)\n",
    "\n",
    "print(f'names_list: {names_list}')\n",
    "print(f'other_names_list: {other_names_list}')\n",
    "\n",
    "obeses_list = []\n",
    "obeses_list = search_obeses_imperative(peoples_list=peoples)\n",
    "print(obeses_list)"
   ],
   "metadata": {
    "collapsed": false,
    "pycharm": {
     "name": "#%%\n"
    }
   }
  },
  {
   "cell_type": "markdown",
   "source": [
    "<h2>Functional programming\n",
    "<h3>Functions"
   ],
   "metadata": {
    "collapsed": false,
    "pycharm": {
     "name": "#%% md\n"
    }
   }
  },
  {
   "cell_type": "code",
   "execution_count": 21,
   "outputs": [],
   "source": [
    "def search_obese(peoples_list=list()):\n",
    "    obese = []\n",
    "    if peoples_list['imc'] >= 30:\n",
    "        obese.append(peoples_list)\n",
    "    return obese\n",
    "\n",
    "def get_all_imc(peoples_list=list()):\n",
    "    new_imc_list = []\n",
    "    for people in peoples_list:\n",
    "        if people['imc'] >= 30:\n",
    "            new_imc_list.append(people['imc'])\n",
    "    return new_imc_list"
   ],
   "metadata": {
    "collapsed": false,
    "pycharm": {
     "name": "#%%\n"
    }
   }
  },
  {
   "cell_type": "code",
   "execution_count": 24,
   "outputs": [
    {
     "name": "stdout",
     "output_type": "stream",
     "text": [
      "names_list: ['Joao', 'Cleiton', 'Julia', 'Carlos', 'Daniela']\n",
      "other_names_list: ['Joao', 'Cleiton', 'Julia', 'Carlos', 'Daniela']\n",
      "Peoples with obesity: [{'name': 'Carlos', 'imc': 43}, {'name': 'Daniela', 'imc': 31}]\n",
      "[43, 31]\n"
     ]
    },
    {
     "ename": "TypeError",
     "evalue": "'int' object is not iterable",
     "output_type": "error",
     "traceback": [
      "\u001B[1;31m---------------------------------------------------------------------------\u001B[0m",
      "\u001B[1;31mTypeError\u001B[0m                                 Traceback (most recent call last)",
      "\u001B[1;32m<ipython-input-24-8619ec7eee6a>\u001B[0m in \u001B[0;36m<module>\u001B[1;34m\u001B[0m\n\u001B[0;32m     22\u001B[0m \u001B[0mimc_list\u001B[0m \u001B[1;33m=\u001B[0m \u001B[0mget_all_imc\u001B[0m\u001B[1;33m(\u001B[0m\u001B[0mpeoples_list\u001B[0m\u001B[1;33m=\u001B[0m\u001B[0mpeoples\u001B[0m\u001B[1;33m)\u001B[0m\u001B[1;33m\u001B[0m\u001B[1;33m\u001B[0m\u001B[0m\n\u001B[0;32m     23\u001B[0m \u001B[0mprint\u001B[0m\u001B[1;33m(\u001B[0m\u001B[0mimc_list\u001B[0m\u001B[1;33m.\u001B[0m\u001B[0m__str__\u001B[0m\u001B[1;33m(\u001B[0m\u001B[1;33m)\u001B[0m\u001B[1;33m)\u001B[0m\u001B[1;33m\u001B[0m\u001B[1;33m\u001B[0m\u001B[0m\n\u001B[1;32m---> 24\u001B[1;33m \u001B[0mimc_average_list\u001B[0m \u001B[1;33m=\u001B[0m \u001B[0mlist\u001B[0m\u001B[1;33m(\u001B[0m\u001B[0mreduce\u001B[0m\u001B[1;33m(\u001B[0m\u001B[1;32mlambda\u001B[0m \u001B[0ma\u001B[0m\u001B[1;33m,\u001B[0m \u001B[0mb\u001B[0m\u001B[1;33m:\u001B[0m \u001B[0ma\u001B[0m \u001B[1;33m+\u001B[0m \u001B[0mb\u001B[0m\u001B[1;33m,\u001B[0m \u001B[0mimc_list\u001B[0m\u001B[1;33m)\u001B[0m\u001B[1;33m)\u001B[0m\u001B[1;33m\u001B[0m\u001B[1;33m\u001B[0m\u001B[0m\n\u001B[0m\u001B[0;32m     25\u001B[0m \u001B[0mprint\u001B[0m\u001B[1;33m(\u001B[0m\u001B[0mimc_average_list\u001B[0m\u001B[1;33m)\u001B[0m\u001B[1;33m\u001B[0m\u001B[1;33m\u001B[0m\u001B[0m\n\u001B[0;32m     26\u001B[0m \u001B[1;33m\u001B[0m\u001B[0m\n",
      "\u001B[1;31mTypeError\u001B[0m: 'int' object is not iterable"
     ]
    }
   ],
   "source": [
    "peoples = [{'name': 'Joao', 'imc': 27},\n",
    "         {'name': 'Cleiton', 'imc': 21},\n",
    "         {'name': 'Julia', 'imc': 16},\n",
    "         {'name': 'Carlos', 'imc': 43},\n",
    "         {'name': 'Daniela', 'imc': 31}\n",
    "]\n",
    "\n",
    "#Using map()\n",
    "names_list = list(map(lambda p: p['name'], peoples))\n",
    "other_names_list = list(map(lambda p: p['name'], peoples))\n",
    "\n",
    "print(f'names_list: {names_list}')\n",
    "print(f'other_names_list: {other_names_list}')\n",
    "\n",
    "\n",
    "#Using list()\n",
    "people_with_obesity = list(filter(search_obese, peoples))\n",
    "print(f'Peoples with obesity: {people_with_obesity}')\n",
    "\n",
    "#Using reduce()\n",
    "from functools import reduce\n",
    "imc_list = get_all_imc(peoples_list=peoples)\n",
    "print()\n",
    "imc_average_list = list(reduce(lambda a, b: a + b, imc_list))\n",
    "print(imc_average_list)\n"
   ],
   "metadata": {
    "collapsed": false,
    "pycharm": {
     "name": "#%%\n"
    }
   }
  }
 ],
 "metadata": {
  "kernelspec": {
   "name": "pycharm-8eeb72f7",
   "language": "python",
   "display_name": "PyCharm (functional-programming)"
  },
  "language_info": {
   "codemirror_mode": {
    "name": "ipython",
    "version": 2
   },
   "file_extension": ".py",
   "mimetype": "text/x-python",
   "name": "python",
   "nbconvert_exporter": "python",
   "pygments_lexer": "ipython2",
   "version": "2.7.6"
  }
 },
 "nbformat": 4,
 "nbformat_minor": 0
}